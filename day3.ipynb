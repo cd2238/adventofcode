{
 "cells": [
  {
   "cell_type": "code",
   "execution_count": null,
   "id": "d47c917e-3ca1-4422-99d2-0a8605dd3c40",
   "metadata": {},
   "outputs": [],
   "source": [
    "import urllib3\n",
    "import re"
   ]
  },
  {
   "cell_type": "markdown",
   "id": "c9968682-d653-4fa0-b1e2-1b92c0e7a796",
   "metadata": {},
   "source": []
  },
  {
   "cell_type": "code",
   "execution_count": null,
   "id": "2382fc78-379f-41dd-aec1-e7ac234f5902",
   "metadata": {},
   "outputs": [],
   "source": [
    "resp = urllib3.request(\"GET\", \"https://adventofcode.com/2024/day/3/input\")\n",
    "resp.status"
   ]
  },
  {
   "cell_type": "code",
   "execution_count": null,
   "id": "2d3740d4-7a9a-4b16-932f-038eb6ead00a",
   "metadata": {},
   "outputs": [],
   "source": [
    "f = open(\"data/inputday3.txt\", \"r\")\n",
    "text=f.read()"
   ]
  },
  {
   "cell_type": "code",
   "execution_count": null,
   "id": "93e6c923-972c-4e3b-9322-4b2f7a39e95b",
   "metadata": {},
   "outputs": [],
   "source": [
    "tab=re.findall(r\"mul\\([0-9]+,[0-9]+\\)\", text)"
   ]
  },
  {
   "cell_type": "code",
   "execution_count": null,
   "id": "68799617-2f2e-41d5-b724-bb883fd7473c",
   "metadata": {},
   "outputs": [],
   "source": [
    "print(tab[0])"
   ]
  },
  {
   "cell_type": "code",
   "execution_count": null,
   "id": "14b0c56b-c857-45d0-91f5-7f1ac8b8f3cf",
   "metadata": {},
   "outputs": [],
   "source": [
    "tab=[re.sub(r',', '*', i) for i in tab]\n",
    "tab=[re.sub(r'mul\\(', '', i) for i in tab]\n",
    "tab=[re.sub(r'\\)', '', i) for i in tab]\n",
    "print(tab[0])"
   ]
  },
  {
   "cell_type": "code",
   "execution_count": null,
   "id": "4f6a8d85-91d0-4cd1-adae-89c90bf88f95",
   "metadata": {},
   "outputs": [],
   "source": [
    "tab=[eval(i) for i in tab]\n",
    "print(tab[0])"
   ]
  },
  {
   "cell_type": "code",
   "execution_count": null,
   "id": "e0ca4067-5922-4c33-a127-52c87437996e",
   "metadata": {},
   "outputs": [],
   "source": [
    "result=sum(tab)"
   ]
  },
  {
   "cell_type": "code",
   "execution_count": null,
   "id": "bc09b4bf-14ed-4295-a1c2-ed159a7d3cf5",
   "metadata": {},
   "outputs": [],
   "source": [
    "print(result)"
   ]
  },
  {
   "cell_type": "code",
   "execution_count": null,
   "id": "3bff4498-7fb1-477e-8894-c582f44c3524",
   "metadata": {},
   "outputs": [],
   "source": []
  },
  {
   "cell_type": "code",
   "execution_count": null,
   "id": "0e85f493-588a-4e78-bef2-f6906ccab737",
   "metadata": {},
   "outputs": [],
   "source": []
  },
  {
   "cell_type": "code",
   "execution_count": null,
   "id": "645226be-ef56-4eef-921c-7f4d183b9ebe",
   "metadata": {},
   "outputs": [],
   "source": []
  },
  {
   "cell_type": "code",
   "execution_count": null,
   "id": "31514412-9f14-41e7-ac06-ac6daeb41a54",
   "metadata": {},
   "outputs": [],
   "source": []
  },
  {
   "cell_type": "code",
   "execution_count": null,
   "id": "8b06326a-a059-4ab8-9240-cdf16de0574b",
   "metadata": {},
   "outputs": [],
   "source": []
  },
  {
   "cell_type": "code",
   "execution_count": null,
   "id": "a44811b1-b959-4c30-91b4-ebd8fc0f2567",
   "metadata": {},
   "outputs": [],
   "source": []
  },
  {
   "cell_type": "code",
   "execution_count": null,
   "id": "46fb8940-7ef0-4438-a26d-d9fbb896c54d",
   "metadata": {},
   "outputs": [],
   "source": []
  },
  {
   "cell_type": "code",
   "execution_count": null,
   "id": "426d62ee-4a9f-4ecb-bbd4-37867c9cd963",
   "metadata": {},
   "outputs": [],
   "source": []
  },
  {
   "cell_type": "code",
   "execution_count": null,
   "id": "fdfd6a47-3597-49cd-ba82-d850cc688d74",
   "metadata": {},
   "outputs": [],
   "source": []
  },
  {
   "cell_type": "code",
   "execution_count": null,
   "id": "a85ac7da-a174-4181-95cc-9b4d63837036",
   "metadata": {},
   "outputs": [],
   "source": []
  },
  {
   "cell_type": "code",
   "execution_count": null,
   "id": "0bdd3761-5dd6-4ecb-8aa7-7ea52dc83367",
   "metadata": {},
   "outputs": [],
   "source": []
  },
  {
   "cell_type": "markdown",
   "id": "8ad17241-4ee9-4867-9154-7f229854123c",
   "metadata": {},
   "source": []
  },
  {
   "cell_type": "code",
   "execution_count": null,
   "id": "838b2333-0e35-4f32-803c-dbfe97c7c1e4",
   "metadata": {},
   "outputs": [],
   "source": []
  },
  {
   "cell_type": "code",
   "execution_count": null,
   "id": "2a22e59f-8d8f-4723-86e5-996d7727e6ed",
   "metadata": {},
   "outputs": [],
   "source": []
  },
  {
   "cell_type": "code",
   "execution_count": null,
   "id": "6e09446d-158a-415a-a3ef-e4ac7579fc10",
   "metadata": {},
   "outputs": [],
   "source": []
  },
  {
   "cell_type": "code",
   "execution_count": null,
   "id": "52d4e466-00af-4fa5-9773-900f9986c4bf",
   "metadata": {},
   "outputs": [],
   "source": []
  },
  {
   "cell_type": "code",
   "execution_count": null,
   "id": "a03a0676-9cd0-4b72-8641-4f666d378d63",
   "metadata": {},
   "outputs": [],
   "source": []
  },
  {
   "cell_type": "code",
   "execution_count": null,
   "id": "0b75999c-5c36-4c8d-9777-cde13cce5254",
   "metadata": {},
   "outputs": [],
   "source": []
  },
  {
   "cell_type": "code",
   "execution_count": null,
   "id": "2b0da575-1925-4778-a3f4-1ffd58f4d508",
   "metadata": {},
   "outputs": [],
   "source": []
  },
  {
   "cell_type": "code",
   "execution_count": null,
   "id": "c546f33f-555f-4a20-b76d-27536d55ac94",
   "metadata": {},
   "outputs": [],
   "source": []
  }
 ],
 "metadata": {
  "kernelspec": {
   "display_name": "Python 3 (ipykernel)",
   "language": "python",
   "name": "python3"
  },
  "language_info": {
   "codemirror_mode": {
    "name": "ipython",
    "version": 3
   },
   "file_extension": ".py",
   "mimetype": "text/x-python",
   "name": "python",
   "nbconvert_exporter": "python",
   "pygments_lexer": "ipython3",
   "version": "3.12.3"
  }
 },
 "nbformat": 4,
 "nbformat_minor": 5
}
